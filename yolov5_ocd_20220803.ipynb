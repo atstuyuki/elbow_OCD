{
  "nbformat": 4,
  "nbformat_minor": 0,
  "metadata": {
    "colab": {
      "name": "yolov5_ocd_20220803.ipynb",
      "provenance": [],
      "authorship_tag": "ABX9TyOzjtRBq85fr6Ez+NxbZ+NH",
      "include_colab_link": true
    },
    "kernelspec": {
      "name": "python3",
      "display_name": "Python 3"
    },
    "language_info": {
      "name": "python"
    }
  },
  "cells": [
    {
      "cell_type": "markdown",
      "metadata": {
        "id": "view-in-github",
        "colab_type": "text"
      },
      "source": [
        "<a href=\"https://colab.research.google.com/github/atstuyuki/elbow_OCD/blob/main/yolov5_ocd_20220803.ipynb\" target=\"_parent\"><img src=\"https://colab.research.google.com/assets/colab-badge.svg\" alt=\"Open In Colab\"/></a>"
      ]
    },
    {
      "cell_type": "code",
      "execution_count": null,
      "metadata": {
        "id": "7lO1oPRMjFd4"
      },
      "outputs": [],
      "source": [
        "#torchの読み込みCPU版（GPUが使えないこと）の確認　CPU版ならFalse\n",
        "import torch\n",
        "print('torch_version:',torch.__version__)\n",
        "print('Is cuda available?',torch.cuda.is_available())"
      ]
    },
    {
      "cell_type": "code",
      "source": [
        "#カレントディレクトリの確認\n",
        "%pwd"
      ],
      "metadata": {
        "id": "hLTdQWJFjLQP"
      },
      "execution_count": null,
      "outputs": []
    },
    {
      "cell_type": "code",
      "source": [
        "%cd yolov5"
      ],
      "metadata": {
        "id": "8P-wxfLVjT0W"
      },
      "execution_count": null,
      "outputs": []
    },
    {
      "cell_type": "code",
      "source": [
        "#tourch hubを使って学習済みモデルをmodelに格納\n",
        "#cocomodel(通常の物体検出モデル）を読み込む場合\n",
        "model = torch.hub.load(\"../yolov5\",\"yolov5s\",source='local')\n",
        "#ocd検出モデルを読み込む場合（上のmodel=xxをコメントアウト（#を付ける）下の行の#をとる\n",
        "#model = torch.hub.load('','custom',path='ocd_20220413.pt',source='local',force_reload=True)"
      ],
      "metadata": {
        "id": "UYqX7CSSjpt7"
      },
      "execution_count": null,
      "outputs": []
    },
    {
      "cell_type": "code",
      "source": [
        "#torchhubモデルの検出時のパラメーター設定\n",
        "model.conf=0.4\n",
        "model.iou=0.45\n",
        "model.multi_label=False\n",
        "model.max_det=5"
      ],
      "metadata": {
        "id": "FnG4TekSkGrI"
      },
      "execution_count": null,
      "outputs": []
    },
    {
      "cell_type": "markdown",
      "source": [
        "#PySimpleGUIはgoogle colab上では動きません、ローカル環境でファイルを動かしてください"
      ],
      "metadata": {
        "id": "PrTjTGhzolfO"
      }
    },
    {
      "cell_type": "code",
      "source": [
        "import PySimpleGUI as sg\n",
        "#すべての警告の非表示\n",
        "import warnings\n",
        "warnings.simplefilter('ignore')\n",
        "\n",
        "threshould=0.4 #閾値の初期設定\n",
        "#カメラ番号入力のポップアップ 外部入力なら1か2\n",
        "cameranum = sg.popup_get_text(\"input camera number(0,1,2)\", title=\"camera number\", default_text=\"1\")\n",
        "cameranum =int(cameranum)\n",
        "#GUIの初期設定\n",
        "sg.theme('DarkBlue15')\n",
        "layout = [\n",
        "   [sg.Image(key='img1',), sg.Image(key='img2',)],\n",
        "   #[[sg.Text('select camera'),sg.Listbox(value, size=(10, 3),key=('cameranum'))]],\n",
        "   [[sg.Text('confidence thredshold'),sg.Slider(range=(0.1,1.0),default_value=0.4, resolution=0.1 ,orientation='h',\n",
        "   size=(20,2),enable_events=True, key='slider',)]],\n",
        "    [[sg.Button('Start', size=(10, 1)), sg.Button('Stop', size=(10,1))]],\n",
        "\n",
        "    [sg.Button('Exit', size=(10, 1))],]\n",
        "#記録イベントのためにstartedという関数を定義               \n",
        "started= False\n",
        "#webカメラで検出\n",
        "import cv2\n",
        "import time\n",
        "import datetime as dt\n",
        "\n",
        "\n",
        "#camera = cv2.VideoCapture('./data/images/ocd.mp4')\n",
        "#pysimpleGUIのwindow定義\n",
        "window = sg.Window(\"webカメラ画面\", location=(100,100),layout=layout, size=(1000,1000),resizable=True,finalize=True)\n",
        "event, values = window.read(timeout=20)\n",
        "#cameranum = int(values['cameranum'])\n",
        "#if event == ['caneranum']:\n",
        "#    cameranum=int(values['cameranum'])\n",
        "cap = cv2.VideoCapture(cameranum) #外部入力カメラを使用する場合0を1に変更\n",
        "# ビデオ記録用の変数定義\n",
        "fps = int(cap.get(cv2.CAP_PROP_FPS))\n",
        "w = int(cap.get(cv2.CAP_PROP_FRAME_WIDTH))\n",
        "h = int(cap.get(cv2.CAP_PROP_FRAME_HEIGHT))\n",
        "fourcc = cv2.VideoWriter_fourcc('m', 'p', '4', 'v')\n",
        "out = cv2.VideoWriter('result_{}.mp4'.format(dt.datetime.now()), fourcc, fps, (w, h))\n",
        "while True:\n",
        "    ret, imgs = cap.read()\n",
        "    if not ret:\n",
        "        break\n",
        "    h,w,ch=imgs.shape\n",
        "# キャプチャーした画像をpngに変換\n",
        "    image1 = cv2.imencode('.png', imgs)[1].tobytes()                   \n",
        "# Imageの内容を更新\n",
        "    window['img1'].update(data=image1)#web cameraの画像を直接表示\n",
        "    event, values = window.read(timeout=0)\n",
        "    \"\"\"if event == ['caneranum']:\n",
        "        cameranum=int(values['cameranum'])\n",
        "        cap=cv2.VideoCapture(cameranum)\n",
        "        ret,img = cap.read()\"\"\"\n",
        "\n",
        "    if values['slider']:\n",
        "      threshould=values['slider']\n",
        "      model.conf=threshould\n",
        "\n",
        "    if event == 'Start':\n",
        "        started = True\n",
        "    if started == True:\n",
        "        #画面を10*10分割して1/10のところから9/10のところまで切り抜き\n",
        "        im_cropped=imgs[round(h/10):round(h/10)*9, round(w/10):round(w/10)*9,:]\n",
        "        results = model(im_cropped)\n",
        "        for *box, conf, cls in results.xyxy[0]:\n",
        "            s = model.names[int(cls)]+\":\"+'{:.1f}'.format(float(conf)*100)\n",
        "            cv2.rectangle(im_cropped,\n",
        "                      (int(box[0]),int(box[1])),\n",
        "                      (int(box[2]),int(box[3])),color=(0,255,0),thickness=4)\n",
        "            cv2.putText(im_cropped, s, (int(box[0]),int(box[1])-5), fontFace=cv2.FONT_HERSHEY_SIMPLEX,fontScale=1.0,\n",
        "                   color=(0,0,255),thickness =2)          \n",
        "    # キャプチャーした画像をpngに変換\n",
        "            image2 = cv2.imencode('.png', im_cropped)[1].tobytes()\n",
        "    # Imageの内容を更新\n",
        "            window['img2'].update(data=image2)       \n",
        "\n",
        "    if event =='Stop':\n",
        "        started = False\n",
        "        out.release()\n",
        "\n",
        "    if event == 'Exit' or event == sg.WIN_CLOSED:\n",
        "        break\n",
        "\n",
        "cap.release()    \n",
        "window.close()"
      ],
      "metadata": {
        "id": "GV_rim6OnZse"
      },
      "execution_count": null,
      "outputs": []
    }
  ]
}